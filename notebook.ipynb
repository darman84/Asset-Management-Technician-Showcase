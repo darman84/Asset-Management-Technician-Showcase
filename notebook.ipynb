{
 "cells": [
  {
   "cell_type": "code",
   "execution_count": 2,
   "id": "d17045a9-2d79-43f5-92a7-2f89c920312f",
   "metadata": {},
   "outputs": [
    {
     "name": "stdout",
     "output_type": "stream",
     "text": [
      "Mean Absolute Error: 212.41\n",
      "Mean Squared Error: 85307.89\n",
      "Hydrant 6 will need maintenance in approximately 376 days.\n",
      "Hydrant 7 will need maintenance in approximately 943 days.\n"
     ]
    },
    {
     "name": "stderr",
     "output_type": "stream",
     "text": [
      "C:\\Users\\zacha\\anaconda3\\Lib\\site-packages\\sklearn\\base.py:439: UserWarning: X does not have valid feature names, but SimpleImputer was fitted with feature names\n",
      "  warnings.warn(\n",
      "C:\\Users\\zacha\\anaconda3\\Lib\\site-packages\\sklearn\\base.py:439: UserWarning: X does not have valid feature names, but SimpleImputer was fitted with feature names\n",
      "  warnings.warn(\n"
     ]
    }
   ],
   "source": [
    "import json\n",
    "import pandas as pd\n",
    "from sklearn.ensemble import GradientBoostingRegressor\n",
    "from sklearn.impute import SimpleImputer\n",
    "from sklearn.model_selection import train_test_split\n",
    "from sklearn.metrics import mean_absolute_error, mean_squared_error\n",
    "\n",
    "# Read hydrant data from JSON file\n",
    "with open('hydrant_data.json') as file:\n",
    "    data = json.load(file)\n",
    "\n",
    "# Create a DataFrame from the hydrant data\n",
    "df = pd.DataFrame(data)\n",
    "\n",
    "# Separate features (X) and target variable (y)\n",
    "X = df[['age', 'maintenance_count', 'water_main_size', 'max_pressure', 'days_since_last_maintenance',\n",
    "        'accessibility', 'leaks', 'outlet_condition', 'operating_nut_condition', 'frequency_of_use']]\n",
    "y = df['days_since_last_maintenance']\n",
    "\n",
    "# Handle missing data using SimpleImputer\n",
    "imputer = SimpleImputer(strategy='mean')\n",
    "X_imputed = imputer.fit_transform(X)\n",
    "\n",
    "# Split the data into training and testing sets\n",
    "X_train, X_test, y_train, y_test = train_test_split(X_imputed, y, test_size=0.2, random_state=42)\n",
    "\n",
    "# Create and train the model (Gradient Boosting Regressor)\n",
    "model = GradientBoostingRegressor(n_estimators=100, learning_rate=0.1, random_state=42)\n",
    "model.fit(X_train, y_train)\n",
    "\n",
    "# Make predictions on the test set\n",
    "y_pred = model.predict(X_test)\n",
    "\n",
    "# Evaluate the model\n",
    "mae = mean_absolute_error(y_test, y_pred)\n",
    "mse = mean_squared_error(y_test, y_pred)\n",
    "print(f\"Mean Absolute Error: {mae:.2f}\")\n",
    "print(f\"Mean Squared Error: {mse:.2f}\")\n",
    "\n",
    "# Function to predict days until next maintenance\n",
    "def predict_maintenance(age, maintenance_count, water_main_size, max_pressure, days_since_last_maintenance,\n",
    "                        accessibility, leaks, outlet_condition, operating_nut_condition, frequency_of_use):\n",
    "    input_data = [[age, maintenance_count, water_main_size, max_pressure, days_since_last_maintenance,\n",
    "                   accessibility, leaks, outlet_condition, operating_nut_condition, frequency_of_use]]\n",
    "    input_data_imputed = imputer.transform(input_data)\n",
    "    days_until_maintenance = model.predict(input_data_imputed)\n",
    "    return int(days_until_maintenance[0])\n",
    "\n",
    "# Example usage\n",
    "new_hydrant_data = [\n",
    "    {'hydrant_id': 6, 'age': 7, 'maintenance_count': 2, 'water_main_size': 6, 'max_pressure': 105,\n",
    "     'days_since_last_maintenance': 400, 'accessibility': 1, 'leaks': 0, 'outlet_condition': 1,\n",
    "     'operating_nut_condition': 1, 'frequency_of_use': 7},\n",
    "    {'hydrant_id': 7, 'age': 15, 'maintenance_count': 5, 'water_main_size': 8, 'max_pressure': 140,\n",
    "     'days_since_last_maintenance': 800, 'accessibility': 1, 'leaks': 0, 'outlet_condition': 0,\n",
    "     'operating_nut_condition': 1, 'frequency_of_use': 15}\n",
    "]\n",
    "\n",
    "for hydrant in new_hydrant_data:\n",
    "    days_until_maintenance = predict_maintenance(\n",
    "        hydrant['age'],\n",
    "        hydrant['maintenance_count'],\n",
    "        hydrant['water_main_size'],\n",
    "        hydrant['max_pressure'],\n",
    "        hydrant['days_since_last_maintenance'],\n",
    "        hydrant.get('accessibility', 1),  # Use get() to handle missing values\n",
    "        hydrant.get('leaks', 0),\n",
    "        hydrant.get('outlet_condition', 1),\n",
    "        hydrant.get('operating_nut_condition', 1),\n",
    "        hydrant.get('frequency_of_use', 0)\n",
    "    )\n",
    "    print(f\"Hydrant {hydrant['hydrant_id']} will need maintenance in approximately {days_until_maintenance} days.\")\n"
   ]
  },
  {
   "cell_type": "code",
   "execution_count": null,
   "id": "b40d0c17-f109-4ea8-ac68-289aed4a50f7",
   "metadata": {},
   "outputs": [],
   "source": []
  }
 ],
 "metadata": {
  "kernelspec": {
   "display_name": "Python 3 (ipykernel)",
   "language": "python",
   "name": "python3"
  },
  "language_info": {
   "codemirror_mode": {
    "name": "ipython",
    "version": 3
   },
   "file_extension": ".py",
   "mimetype": "text/x-python",
   "name": "python",
   "nbconvert_exporter": "python",
   "pygments_lexer": "ipython3",
   "version": "3.11.7"
  }
 },
 "nbformat": 4,
 "nbformat_minor": 5
}
